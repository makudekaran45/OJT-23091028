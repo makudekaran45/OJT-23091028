{
 "cells": [
  {
   "cell_type": "code",
   "execution_count": 1,
   "id": "7f710224",
   "metadata": {},
   "outputs": [],
   "source": [
    "import numpy as np\n",
    "import sympy as sp"
   ]
  },
  {
   "cell_type": "code",
   "execution_count": 2,
   "id": "4282bbb1",
   "metadata": {},
   "outputs": [
    {
     "name": "stdout",
     "output_type": "stream",
     "text": [
      "U= [[-0.5127523  -0.34299748  0.03986648 -0.7000646  -0.35743255]\n",
      " [-0.23812406 -0.67855958  0.19056258  0.19073499  0.64043727]\n",
      " [-0.60981807 -0.02896036 -0.15242039  0.66094038 -0.40891205]\n",
      " [-0.49603837  0.52107772 -0.39177483 -0.19049929  0.54096806]\n",
      " [-0.24989972  0.38671557  0.88621503  0.01993886  0.04718644]]\n",
      "S= [22.65504915  8.44536654  5.89086971  5.49001171  2.56553258]\n",
      "VT= [[-0.41930983 -0.52308436 -0.42397669 -0.53766324 -0.28587414]\n",
      " [ 0.5663518  -0.19181095 -0.7312305   0.32803508 -0.01221267]\n",
      " [-0.25507775 -0.43695411 -0.01321834  0.1867741   0.84199   ]\n",
      " [ 0.44851275 -0.68436459  0.53403267  0.00798431 -0.21266587]\n",
      " [ 0.48702829  0.17409058 -0.01342028 -0.75389848  0.40491098]]\n"
     ]
    }
   ],
   "source": [
    "#Q3\n",
    "np.random.seed(28)\n",
    "A = np.random.randint(0, 10, size=(5, 5))\n",
    "sp.Matrix(A)\n",
    "U,S,VT=np.linalg.svd(A)\n",
    "print('U=',U)\n",
    "print('S=',S)\n",
    "print(\"VT=\",VT)\n"
   ]
  },
  {
   "cell_type": "code",
   "execution_count": 3,
   "id": "4b00968c",
   "metadata": {},
   "outputs": [],
   "source": [
    "USVT = np.dot(U, np.dot(np.diag(S), VT))"
   ]
  },
  {
   "cell_type": "code",
   "execution_count": 4,
   "id": "9849fdae",
   "metadata": {},
   "outputs": [
    {
     "name": "stdout",
     "output_type": "stream",
     "text": [
      "A equals the product of USVT.\n"
     ]
    }
   ],
   "source": [
    "verification = np.allclose(USVT, A)\n",
    "\n",
    "if verification:\n",
    "    print(\"A equals the product of USVT.\")\n",
    "else:\n",
    "    print(\"A does not equal the product of USVT.\")"
   ]
  },
  {
   "cell_type": "code",
   "execution_count": null,
   "id": "7122a0a3",
   "metadata": {},
   "outputs": [],
   "source": []
  },
  {
   "cell_type": "code",
   "execution_count": null,
   "id": "b5ab2158",
   "metadata": {},
   "outputs": [],
   "source": []
  }
 ],
 "metadata": {
  "kernelspec": {
   "display_name": "Python 3 (ipykernel)",
   "language": "python",
   "name": "python3"
  },
  "language_info": {
   "codemirror_mode": {
    "name": "ipython",
    "version": 3
   },
   "file_extension": ".py",
   "mimetype": "text/x-python",
   "name": "python",
   "nbconvert_exporter": "python",
   "pygments_lexer": "ipython3",
   "version": "3.11.5"
  }
 },
 "nbformat": 4,
 "nbformat_minor": 5
}
